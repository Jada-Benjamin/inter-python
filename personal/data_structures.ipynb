{
 "cells": [
  {
   "cell_type": "code",
   "execution_count": 42,
   "id": "8f2eb0d9",
   "metadata": {},
   "outputs": [
    {
     "name": "stdout",
     "output_type": "stream",
     "text": [
      "Hello\n"
     ]
    }
   ],
   "source": [
    "from pprint import pprint\n",
    "from collections import Counter\n",
    "\n",
    "print(\"Hello\")"
   ]
  },
  {
   "cell_type": "code",
   "execution_count": 43,
   "id": "71a74a34",
   "metadata": {},
   "outputs": [
    {
     "data": {
      "text/plain": [
       "[[1, 2, 3, 4], [5, 6, 7, 8]]"
      ]
     },
     "execution_count": 43,
     "metadata": {},
     "output_type": "execute_result"
    }
   ],
   "source": [
    "a = 7\n",
    "a \n",
    "b = 12\n",
    "b + a \n",
    "\n",
    "[[1,2,3,4], [5,6,7,8]]\n"
   ]
  },
  {
   "cell_type": "code",
   "execution_count": 44,
   "id": "41ec50b8",
   "metadata": {},
   "outputs": [
    {
     "name": "stdout",
     "output_type": "stream",
     "text": [
      "{'a': 1, 'b': 2}\n"
     ]
    }
   ],
   "source": [
    "pprint({\"a\":1,\"b\":2})\n",
    "\n"
   ]
  },
  {
   "cell_type": "code",
   "execution_count": 45,
   "id": "456806df",
   "metadata": {},
   "outputs": [
    {
     "data": {
      "text/plain": [
       "[1, 5, 3]"
      ]
     },
     "execution_count": 45,
     "metadata": {},
     "output_type": "execute_result"
    }
   ],
   "source": [
    "# lists\n",
    "t = [1,3,5,7]\n",
    "t\n",
    "\n",
    "t, t[0], t[-1]\n",
    "\n",
    "t[0],t[0:2], t[0:-1], t[0:], t[-2:], t[:], t[::2], t[::-1] # slice -> starting point and up to point\n",
    "\n",
    "t = [1,2]\n",
    "t.append(3) # appending an additonal element\n",
    "t[1] = 5 # changing an element in place\n",
    "t\n"
   ]
  },
  {
   "cell_type": "code",
   "execution_count": 46,
   "id": "90f034c6",
   "metadata": {},
   "outputs": [
    {
     "data": {
      "text/plain": [
       "((1, 2), [1, 2], (1, 2), (1, 2, 55))"
      ]
     },
     "execution_count": 46,
     "metadata": {},
     "output_type": "execute_result"
    }
   ],
   "source": [
    "# Tuple (can't be changed) -> efficient\n",
    "\n",
    "q = (1,2)\n",
    "r = [1,2]\n",
    "z = list(q)\n",
    "z.append(55)\n",
    "tuple(z)\n",
    "q, list(q), tuple(r), tuple(z)\n",
    "\n"
   ]
  },
  {
   "cell_type": "code",
   "execution_count": 47,
   "id": "f25ae11d",
   "metadata": {},
   "outputs": [
    {
     "data": {
      "text/plain": [
       "(4, 8)"
      ]
     },
     "execution_count": 47,
     "metadata": {},
     "output_type": "execute_result"
    }
   ],
   "source": [
    "def x(z):\n",
    "    return z, z * 2\n",
    "t = x(4)\n",
    "t\n",
    "# unpacking a tuple\n",
    "a,b = x(4)\n",
    "a,b\n"
   ]
  },
  {
   "cell_type": "code",
   "execution_count": 48,
   "id": "efc67d72",
   "metadata": {},
   "outputs": [
    {
     "data": {
      "text/plain": [
       "{1, 2, 3, 4}"
      ]
     },
     "execution_count": 48,
     "metadata": {},
     "output_type": "execute_result"
    }
   ],
   "source": [
    "# Sets -> Has unique values\n",
    "s = {1,2,3}\n",
    "# s.append(4) # can't append to sets\n",
    "s.add(4)\n",
    "s\n"
   ]
  },
  {
   "cell_type": "code",
   "execution_count": 49,
   "id": "76791a53",
   "metadata": {},
   "outputs": [
    {
     "data": {
      "text/plain": [
       "[1, 2, 3, 5, 6, 7]"
      ]
     },
     "execution_count": 49,
     "metadata": {},
     "output_type": "execute_result"
    }
   ],
   "source": [
    "t = list(set([1,3,2,5,2,3,5,6,7,3,5,3]))\n",
    "t # Only prints unique outputs\n"
   ]
  },
  {
   "cell_type": "code",
   "execution_count": 50,
   "id": "149f8d38",
   "metadata": {},
   "outputs": [
    {
     "data": {
      "text/plain": [
       "{'Name': 'dorothy', 'Age': 11, 'Hair Color': 'black', 'Food': 'dog food'}"
      ]
     },
     "execution_count": 50,
     "metadata": {},
     "output_type": "execute_result"
    }
   ],
   "source": [
    "# Dictionaries (Mutable)\n",
    "\n",
    "pet = {\"Name\":\"dorothy\",\"Age\": 11, \"Hair Color\": \"black\", \"Food\":\"dog food\"}\n",
    "pet\n"
   ]
  },
  {
   "cell_type": "code",
   "execution_count": 51,
   "id": "56a0a915",
   "metadata": {},
   "outputs": [
    {
     "data": {
      "text/plain": [
       "{'Name': 'dorothy',\n",
       " 'Age': 11,\n",
       " 'Hair Color': 'black',\n",
       " 'Food': 'dog food',\n",
       " 'fav numbers': [3, 4, 5, 6]}"
      ]
     },
     "execution_count": 51,
     "metadata": {},
     "output_type": "execute_result"
    }
   ],
   "source": [
    "pet[\"fav numbers\" ] = [3,4,5,6]\n",
    "pet"
   ]
  },
  {
   "cell_type": "code",
   "execution_count": 53,
   "id": "0db13b4f",
   "metadata": {},
   "outputs": [
    {
     "data": {
      "text/plain": [
       "([2, 4, 6, 10, 12, 14, 18], [6, 7, 9], [6, 10, 12, 14, 18])"
      ]
     },
     "execution_count": 53,
     "metadata": {},
     "output_type": "execute_result"
    }
   ],
   "source": [
    "t = [1,2,3,5,6,7,9]\n",
    "x = [item*2 for item in t]\n",
    "z = [item for item in t if item > 5]\n",
    "y = [item for item in [item*2 for item in t ] if item > 5]\n",
    "x,z,y"
   ]
  },
  {
   "cell_type": "code",
   "execution_count": null,
   "id": "3c8ba207",
   "metadata": {},
   "outputs": [
    {
     "data": {
      "text/plain": [
       "{1: 1, 2: 4, 3: 9, 5: 25, 6: 36, 7: 49, 9: 81}"
      ]
     },
     "execution_count": 23,
     "metadata": {},
     "output_type": "execute_result"
    }
   ],
   "source": [
    "squares = {item:item*item for item in t}\n",
    "squares"
   ]
  },
  {
   "cell_type": "code",
   "execution_count": null,
   "id": "05e867f8",
   "metadata": {},
   "outputs": [
    {
     "data": {
      "text/plain": [
       "[4, 16, 36, 64, 100]"
      ]
     },
     "execution_count": 27,
     "metadata": {},
     "output_type": "execute_result"
    }
   ],
   "source": [
    "x = [i**2 for i in range(1, 11) if i % 2 == 0]\n",
    "x"
   ]
  },
  {
   "cell_type": "code",
   "execution_count": null,
   "id": "1d0fd369",
   "metadata": {},
   "outputs": [
    {
     "data": {
      "text/plain": [
       "[4, 16, 36, 64, 100]"
      ]
     },
     "execution_count": 30,
     "metadata": {},
     "output_type": "execute_result"
    }
   ],
   "source": [
    "x = [i**2 for i in range(2, 11, 2)]\n",
    "x\n"
   ]
  },
  {
   "cell_type": "code",
   "execution_count": null,
   "id": "3179c1f8",
   "metadata": {},
   "outputs": [
    {
     "name": "stdout",
     "output_type": "stream",
     "text": [
      "[[62, 34, 31, 13, 9, 8, 5, 4]]\n"
     ]
    }
   ],
   "source": [
    "t = [13,4,34,62,31,5,9,8]\n",
    "x = sorted(t, reverse=True) \n",
    "print([x])"
   ]
  },
  {
   "cell_type": "code",
   "execution_count": null,
   "id": "44d1b26a",
   "metadata": {},
   "outputs": [
    {
     "name": "stdout",
     "output_type": "stream",
     "text": [
      "[('Bob', 92), ('Charlie', 88), ('Alice', 85)]\n"
     ]
    }
   ],
   "source": [
    "scores = {'Alice': 85, 'Bob': 92, 'Charlie': 88}\n",
    "sorted_scores = sorted(scores.items(), key = lambda item: item[1], reverse=True)\n",
    "print(sorted_scores)"
   ]
  },
  {
   "cell_type": "code",
   "execution_count": null,
   "id": "95d3b58f",
   "metadata": {},
   "outputs": [
    {
     "name": "stdout",
     "output_type": "stream",
     "text": [
      "8\n"
     ]
    }
   ],
   "source": [
    "x = lambda z: z*2\n",
    "print(x(4))"
   ]
  },
  {
   "cell_type": "code",
   "execution_count": null,
   "id": "1784f405",
   "metadata": {},
   "outputs": [
    {
     "name": "stdout",
     "output_type": "stream",
     "text": [
      "4\n"
     ]
    }
   ],
   "source": [
    "print((lambda z: z*2)(2))"
   ]
  },
  {
   "cell_type": "code",
   "execution_count": 54,
   "id": "ee5530ca",
   "metadata": {},
   "outputs": [
    {
     "data": {
      "text/plain": [
       "Counter({'banana': 3, 'apple': 2, 'orange': 1})"
      ]
     },
     "execution_count": 54,
     "metadata": {},
     "output_type": "execute_result"
    }
   ],
   "source": [
    "things = ['apple', 'banana', 'apple', 'orange', 'banana', 'banana']\n",
    "counter = Counter(things)\n",
    "counter"
   ]
  },
  {
   "cell_type": "code",
   "execution_count": 55,
   "id": "547bf9a7",
   "metadata": {},
   "outputs": [
    {
     "data": {
      "text/plain": [
       "[('Alice', 25), ('Bob', 30), ('Charlie', 35)]"
      ]
     },
     "execution_count": 55,
     "metadata": {},
     "output_type": "execute_result"
    }
   ],
   "source": [
    "names = ['Alice', 'Bob', 'Charlie']\n",
    "ages = [25,30,35]\n",
    "combined = list(zip(names, ages))\n",
    "combined"
   ]
  },
  {
   "cell_type": "code",
   "execution_count": 57,
   "id": "705cb4aa",
   "metadata": {},
   "outputs": [
    {
     "name": "stdout",
     "output_type": "stream",
     "text": [
      "{'Alice': 25, 'Bob': 30, 'Charlie': 35}\n"
     ]
    }
   ],
   "source": [
    "data = {name:score for name, score in combined}\n",
    "print(data)"
   ]
  },
  {
   "cell_type": "code",
   "execution_count": 61,
   "id": "b6c8ff58",
   "metadata": {},
   "outputs": [
    {
     "name": "stdout",
     "output_type": "stream",
     "text": [
      "[1, 2, 3, 4, 5, 6, 7, 8, 9]\n"
     ]
    }
   ],
   "source": [
    "# Nested List\n",
    "nested_collection = [\n",
    "    [1,2,3],\n",
    "    [4,5,6],\n",
    "    [7,8,9]\n",
    "]\n",
    "flattened = [item for sublist in nested_collection for item in sublist]\n",
    "print(flattened)"
   ]
  },
  {
   "cell_type": "code",
   "execution_count": 62,
   "id": "1c23b4ea",
   "metadata": {},
   "outputs": [
    {
     "data": {
      "text/plain": [
       "[[2, 4, 6], [8, 10, 12], [14, 16, 18]]"
      ]
     },
     "execution_count": 62,
     "metadata": {},
     "output_type": "execute_result"
    }
   ],
   "source": [
    "[[item * 2 for item in row] for row in nested_collection]"
   ]
  },
  {
   "cell_type": "code",
   "execution_count": 65,
   "id": "e0d1c12c",
   "metadata": {},
   "outputs": [
    {
     "name": "stdout",
     "output_type": "stream",
     "text": [
      "{'Alice': {'science': 97}, 'Bob': {}, 'Charlie': {'math': 98}}\n"
     ]
    }
   ],
   "source": [
    "students = {\n",
    "    \"Alice\": {\"math\": 85, \"science\": 92},\n",
    "    \"Bob\": {\"math\": 78, \"science\": 81},\n",
    "    \"Charlie\": {\"math\": 93, \"science\": 88},\n",
    "}\n",
    "\n",
    "curved = {\n",
    "    student : {subject: grade + 5 for subject, grade in subjects.items() if grade >= 90}\n",
    "    for student, subjects in students.items() # if \"chemistry\" in subjects\n",
    "}\n",
    "\n",
    "print(curved)"
   ]
  },
  {
   "cell_type": "code",
   "execution_count": null,
   "id": "700c707d",
   "metadata": {},
   "outputs": [],
   "source": []
  }
 ],
 "metadata": {
  "kernelspec": {
   "display_name": "Python 3",
   "language": "python",
   "name": "python3"
  },
  "language_info": {
   "codemirror_mode": {
    "name": "ipython",
    "version": 3
   },
   "file_extension": ".py",
   "mimetype": "text/x-python",
   "name": "python",
   "nbconvert_exporter": "python",
   "pygments_lexer": "ipython3",
   "version": "3.12.1"
  }
 },
 "nbformat": 4,
 "nbformat_minor": 5
}
