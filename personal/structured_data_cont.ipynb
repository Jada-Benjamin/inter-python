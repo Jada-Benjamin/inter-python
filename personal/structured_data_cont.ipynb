{
 "cells": [
  {
   "cell_type": "code",
   "execution_count": 1,
   "id": "b28bb7a6",
   "metadata": {},
   "outputs": [
    {
     "data": {
      "text/plain": [
       "(<__main__.Thing at 0x701473fa2e10>, 50)"
      ]
     },
     "execution_count": 1,
     "metadata": {},
     "output_type": "execute_result"
    }
   ],
   "source": [
    "import pickle\n",
    "\n",
    "class Thing:\n",
    "    def __init__(self, a = 0, b = 0):\n",
    "        self.a = a\n",
    "        self.b = b\n",
    "\n",
    "with open(\"things.pkl\", \"rb\") as f:\n",
    "    things2 = pickle.load(f)\n",
    "\n",
    "things2[0], things2[50].a"
   ]
  },
  {
   "cell_type": "code",
   "execution_count": null,
   "id": "287bd2f2",
   "metadata": {},
   "outputs": [],
   "source": []
  }
 ],
 "metadata": {
  "kernelspec": {
   "display_name": "Python 3",
   "language": "python",
   "name": "python3"
  },
  "language_info": {
   "codemirror_mode": {
    "name": "ipython",
    "version": 3
   },
   "file_extension": ".py",
   "mimetype": "text/x-python",
   "name": "python",
   "nbconvert_exporter": "python",
   "pygments_lexer": "ipython3",
   "version": "3.12.1"
  }
 },
 "nbformat": 4,
 "nbformat_minor": 5
}
