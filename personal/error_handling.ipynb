{
 "cells": [
  {
   "cell_type": "code",
   "execution_count": null,
   "id": "66be73e4",
   "metadata": {},
   "outputs": [
    {
     "name": "stdout",
     "output_type": "stream",
     "text": [
      "[IndexError('list index out of range')]\n"
     ]
    },
    {
     "data": {
      "text/plain": [
       "45"
      ]
     },
     "execution_count": 7,
     "metadata": {},
     "output_type": "execute_result"
    }
   ],
   "source": [
    "value_2 = 45\n",
    "some_value = 2\n",
    "\n",
    "\n",
    "#if some_value != 0:\n",
    " #   value_2 = 34 / some_value\n",
    "#else:\n",
    " #   pass\n",
    "\n",
    "x = [3,4,5]\n",
    "\n",
    "try:\n",
    "    value_2 = 34 / some_value + x[6]\n",
    "except Exception as e:\n",
    "    print([e])\n",
    "    pass\n",
    "\n",
    "value_2"
   ]
  },
  {
   "cell_type": "code",
   "execution_count": 22,
   "id": "994d0a4d",
   "metadata": {},
   "outputs": [
    {
     "data": {
      "text/plain": [
       "39.0"
      ]
     },
     "execution_count": 22,
     "metadata": {},
     "output_type": "execute_result"
    }
   ],
   "source": [
    "value_2 = 45\n",
    "some_value = 1\n",
    "\n",
    "\n",
    "x = [3,4,5]\n",
    "i = 2\n",
    "\n",
    "try:\n",
    "    try:\n",
    "        t = k == 12\n",
    "        value_2 = 34 / some_value + x[i]\n",
    "\n",
    "    except IndexError as e:\n",
    "        value_2 = 34 / some_value \n",
    "        print([e])\n",
    "        pass\n",
    "\n",
    "    except ZeroDivisionError as e:\n",
    "        value_2 = 34 / some_value + x[i]\n",
    "        print(\"Divide by zero error\",[e])\n",
    "        pass\n",
    "    except Exception as e:\n",
    "        print(\"other error\", [e])\n",
    "        pass\n",
    "except:\n",
    "    pass\n",
    "\n",
    "value_2"
   ]
  },
  {
   "cell_type": "code",
   "execution_count": 28,
   "id": "3048cd01",
   "metadata": {},
   "outputs": [
    {
     "name": "stdout",
     "output_type": "stream",
     "text": [
      "other error [AssertionError()]\n"
     ]
    },
    {
     "data": {
      "text/plain": [
       "45"
      ]
     },
     "execution_count": 28,
     "metadata": {},
     "output_type": "execute_result"
    }
   ],
   "source": [
    "value_2 = 45\n",
    "some_value = 1\n",
    "\n",
    "\n",
    "x = [3,4,5]\n",
    "i = 2\n",
    "\n",
    "try:\n",
    "    assert 1 == 2\n",
    "    # assert 1 == 2, \"one doesn't = 2\"\n",
    "    raise Exception(\"I am annoyed about something\")\n",
    "    t = k == 12\n",
    "    value_2 = 34 / some_value + x[i]\n",
    "\n",
    "except IndexError as e:\n",
    "    value_2 = 34 / some_value \n",
    "    print([e])\n",
    "    pass\n",
    "\n",
    "except ZeroDivisionError as e:\n",
    "    value_2 = 34 / some_value + x[i]\n",
    "    print(\"Divide by zero error\",[e])\n",
    "    pass\n",
    "except Exception as e:\n",
    "    print(\"other error\", [e])\n",
    "    pass\n",
    "\n",
    "\n",
    "value_2"
   ]
  },
  {
   "cell_type": "code",
   "execution_count": null,
   "id": "bf8b10b8",
   "metadata": {},
   "outputs": [
    {
     "name": "stdout",
     "output_type": "stream",
     "text": [
      "welppp\n"
     ]
    }
   ],
   "source": [
    "# try: \n",
    "#     f = open(\"temp.txt\", \"w\")\n",
    "#     x = 2\n",
    "#     x = x / 0\n",
    "# except:\n",
    "#     print(\"welp\")\n",
    "# finally:\n",
    "#     print(\"closing f\")\n",
    "#     f.close()\n",
    "\n",
    "\n",
    "with open (\"temp.txt\", \"w\"):\n",
    "    try:\n",
    "        f = open(\"temp.txt\",\"w\")\n",
    "        x = 2\n",
    "        x = x / 0\n",
    "    except:\n",
    "        print(\"welppp\")"
   ]
  },
  {
   "cell_type": "code",
   "execution_count": null,
   "id": "883bda7b",
   "metadata": {},
   "outputs": [],
   "source": [
    "class SalesTaxException(Exception):\n",
    "    pass"
   ]
  }
 ],
 "metadata": {
  "kernelspec": {
   "display_name": "Python 3",
   "language": "python",
   "name": "python3"
  },
  "language_info": {
   "codemirror_mode": {
    "name": "ipython",
    "version": 3
   },
   "file_extension": ".py",
   "mimetype": "text/x-python",
   "name": "python",
   "nbconvert_exporter": "python",
   "pygments_lexer": "ipython3",
   "version": "3.12.1"
  }
 },
 "nbformat": 4,
 "nbformat_minor": 5
}
